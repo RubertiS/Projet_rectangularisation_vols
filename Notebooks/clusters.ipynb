{
 "cells": [
  {
   "cell_type": "code",
   "execution_count": null,
   "metadata": {},
   "outputs": [],
   "source": [
    "!git clone https://github.com/jee51/tabata.git"
   ]
  },
  {
   "cell_type": "code",
   "execution_count": 1,
   "metadata": {},
   "outputs": [],
   "source": [
    "import pandas as pd\n",
    "import numpy as np\n",
    "import matplotlib.pyplot as plt\n",
    "from sklearn.cluster import KMeans\n",
    "from sklearn.decomposition import PCA\n",
    "import re"
   ]
  },
  {
   "cell_type": "code",
   "execution_count": 2,
   "metadata": {},
   "outputs": [
    {
     "ename": "NameError",
     "evalue": "name 'Opset' is not defined",
     "output_type": "error",
     "traceback": [
      "\u001b[1;31m---------------------------------------------------------------------------\u001b[0m",
      "\u001b[1;31mNameError\u001b[0m                                 Traceback (most recent call last)",
      "Cell \u001b[1;32mIn[2], line 6\u001b[0m\n\u001b[0;32m      3\u001b[0m final_file \u001b[38;5;241m=\u001b[39m datadir \u001b[38;5;241m+\u001b[39m \u001b[38;5;124m\"\u001b[39m\u001b[38;5;124mAFL1EB_cleaned_final.h5\u001b[39m\u001b[38;5;124m\"\u001b[39m\n\u001b[0;32m      4\u001b[0m norm_file \u001b[38;5;241m=\u001b[39m datadir \u001b[38;5;241m+\u001b[39m \u001b[38;5;124m\"\u001b[39m\u001b[38;5;124mAFL1EB_normed_alt.h5\u001b[39m\u001b[38;5;124m\"\u001b[39m\n\u001b[1;32m----> 6\u001b[0m ds \u001b[38;5;241m=\u001b[39m Opset(final_file)\n",
      "\u001b[1;31mNameError\u001b[0m: name 'Opset' is not defined"
     ]
    }
   ],
   "source": [
    "# Chargement des données.\n",
    "datadir = \"../Data/cleaned/\"\n",
    "final_file = datadir + \"AFL1EB_cleaned_final.h5\"\n",
    "norm_file = datadir + \"AFL1EB_normed_alt.h5\"\n",
    "\n",
    "ds = Opset(final_file)"
   ]
  },
  {
   "cell_type": "code",
   "execution_count": null,
   "metadata": {},
   "outputs": [],
   "source": [
    "def extract_phase_features(df, change_points):\n",
    "    \"\"\"\n",
    "    Extrait les caractéristiques de chaque phase de vol.\n",
    "    \n",
    "    Arguments :\n",
    "        df : pd.DataFrame - Le DataFrame contenant les données de vol.\n",
    "        change_points : list - Liste des points de changement de phase.\n",
    "        \n",
    "    Returns :\n",
    "        features : list - Liste des caractéristiques extraites pour chaque phase.\n",
    "    \"\"\"\n",
    "    features = []\n",
    "    for i in range(len(change_points) - 1):\n",
    "        t0, t1 = change_points[i], change_points[i + 1]\n",
    "        phase_data = df.iloc[t0:t1]\n",
    "        \n",
    "        # Moyenne et variance de l'altitude\n",
    "        mean_altitude = phase_data['ALT[m]'].mean()\n",
    "        var_altitude = phase_data['ALT[m]'].var()\n",
    "\n",
    "        # Moyenne et variance de la vitesse de montée/descente\n",
    "        d_altitude = np.gradient(phase_data['ALT[m]'].values)\n",
    "        mean_rate_of_climb = d_altitude.mean()\n",
    "        var_rate_of_climb = d_altitude.var()\n",
    "\n",
    "        # Ajouter ces caractéristiques dans la liste\n",
    "        features.append([mean_altitude, var_altitude, mean_rate_of_climb, var_rate_of_climb])\n",
    "    \n",
    "    return features\n",
    "\n",
    "def apply_kmeans_clustering(features, n_clusters=3):\n",
    "    \"\"\"\n",
    "    Applique l'algorithme K-Means pour regrouper les phases en clusters.\n",
    "    \n",
    "    Arguments :\n",
    "        features : list - Liste des caractéristiques des phases de vol.\n",
    "        n_clusters : int - Nombre de clusters à créer.\n",
    "        \n",
    "    Returns :\n",
    "        kmeans.labels_ : ndarray - Les étiquettes des clusters pour chaque phase.\n",
    "    \"\"\"\n",
    "    kmeans = KMeans(n_clusters=n_clusters, random_state=42)\n",
    "    kmeans.fit(features)\n",
    "    return kmeans.labels_\n",
    "\n",
    "def visualize_clusters(features, labels):\n",
    "    \"\"\"\n",
    "    Visualise les clusters en utilisant une réduction de dimension (PCA).\n",
    "    \n",
    "    Arguments :\n",
    "        features : list - Liste des caractéristiques des phases de vol.\n",
    "        labels : ndarray - Les étiquettes des clusters.\n",
    "    \"\"\"\n",
    "    # Réduction de dimension avec PCA\n",
    "    pca = PCA(n_components=2)\n",
    "    reduced_features = pca.fit_transform(features)\n",
    "\n",
    "    # Plot des clusters\n",
    "    plt.figure(figsize=(8, 6))\n",
    "    plt.scatter(reduced_features[:, 0], reduced_features[:, 1], c=labels, cmap='viridis')\n",
    "    plt.title('Clustering des Phases de Vol')\n",
    "    plt.xlabel('Composante principale 1')\n",
    "    plt.ylabel('Composante principale 2')\n",
    "    plt.colorbar()\n",
    "    plt.show()"
   ]
  },
  {
   "cell_type": "code",
   "execution_count": null,
   "metadata": {},
   "outputs": [],
   "source": []
  },
  {
   "cell_type": "code",
   "execution_count": null,
   "metadata": {},
   "outputs": [],
   "source": [
    "\n",
    "\n",
    "\n",
    "\n",
    "# Exemple d'utilisation :\n",
    "# Supposons que 'ds' est votre ensemble de données de vol (une liste de DataFrames)\n",
    "# et que nous avons déjà détecté les points de changement de phase pour chaque vol.\n",
    "\n",
    "n_clusters = 3  # Nombre de clusters à détecter\n",
    "\n",
    "# Extraction des caractéristiques pour chaque vol\n",
    "all_features = []\n",
    "all_labels = []\n",
    "\n",
    "for df in ds:\n",
    "    change_points = compute_points(df, n_points=6, method=\"ruptures\", col=\"ALT[m]\")\n",
    "    features = extract_phase_features(df, change_points)\n",
    "    labels = apply_kmeans_clustering(features, n_clusters=n_clusters)\n",
    "    \n",
    "    all_features.extend(features)\n",
    "    all_labels.extend(labels)\n",
    "\n",
    "# Visualisation des résultats\n",
    "visualize_clusters(all_features, all_labels)"
   ]
  }
 ],
 "metadata": {
  "kernelspec": {
   "display_name": "base",
   "language": "python",
   "name": "python3"
  },
  "language_info": {
   "codemirror_mode": {
    "name": "ipython",
    "version": 3
   },
   "file_extension": ".py",
   "mimetype": "text/x-python",
   "name": "python",
   "nbconvert_exporter": "python",
   "pygments_lexer": "ipython3",
   "version": "3.12.4"
  }
 },
 "nbformat": 4,
 "nbformat_minor": 2
}
