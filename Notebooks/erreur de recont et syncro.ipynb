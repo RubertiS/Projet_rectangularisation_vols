{
 "cells": [
  {
   "cell_type": "code",
   "execution_count": 73,
   "metadata": {},
   "outputs": [],
   "source": [
    "import re\n",
    "import numpy as np\n",
    "import pandas as pd\n",
    "import tabata as tbt\n",
    "import ipywidgets as widgets\n",
    "import matplotlib.pyplot as plt\n",
    "%matplotlib inline\n",
    "\n",
    "import Projet_rectangularisation_vols as m2d \n",
    "\n",
    "%reload_ext autoreload\n",
    "%autoreload 2"
   ]
  },
  {
   "cell_type": "code",
   "execution_count": 74,
   "metadata": {},
   "outputs": [
    {
     "data": {
      "text/plain": [
       "OPSET '../Data/cleaned/AFL1EB_cleaned_final.h5' de 47 signaux.\n",
       "        position courante : sigpos  = 0\n",
       "        variable courante : colname = ALT[m]\n",
       "        phase surlignée   : phase   = None"
      ]
     },
     "execution_count": 74,
     "metadata": {},
     "output_type": "execute_result"
    }
   ],
   "source": [
    "# Chargement des données.\n",
    "datadir = \"../Data/cleaned/\"\n",
    "final_file = datadir + \"AFL1EB_cleaned_final.h5\"\n",
    "norm_file = datadir + \"AFL1EB_normed_alt.h5\"\n",
    "ds = tbt.Opset(final_file)\n",
    "ds"
   ]
  },
  {
   "cell_type": "markdown",
   "metadata": {},
   "source": [
    "## Création d'une série d'instants de changement de phase par vol."
   ]
  },
  {
   "cell_type": "code",
   "execution_count": 75,
   "metadata": {},
   "outputs": [],
   "source": [
    "df = ds[23]\n",
    "y = df['ALT[m]'].values\n",
    "n = len(y)\n",
    "t = np.arange(0,n)\n"
   ]
  },
  {
   "cell_type": "code",
   "execution_count": 76,
   "metadata": {},
   "outputs": [
    {
     "data": {
      "text/plain": [
       "'record_28'"
      ]
     },
     "execution_count": 76,
     "metadata": {},
     "output_type": "execute_result"
    }
   ],
   "source": [
    "df.index.name"
   ]
  },
  {
   "cell_type": "code",
   "execution_count": 77,
   "metadata": {},
   "outputs": [
    {
     "data": {
      "text/plain": [
       "1304"
      ]
     },
     "execution_count": 77,
     "metadata": {},
     "output_type": "execute_result"
    }
   ],
   "source": [
    "t1 = np.max(np.argwhere((y<y[0]+10) & (t<n/3)))\n",
    "t1"
   ]
  },
  {
   "cell_type": "code",
   "execution_count": 78,
   "metadata": {},
   "outputs": [
    {
     "data": {
      "text/plain": [
       "5879"
      ]
     },
     "execution_count": 78,
     "metadata": {},
     "output_type": "execute_result"
    }
   ],
   "source": [
    "t4 = np.min(np.argwhere((y<y[-1]+10) & (t>2*n/3)))\n",
    "t4"
   ]
  },
  {
   "cell_type": "code",
   "execution_count": 79,
   "metadata": {},
   "outputs": [],
   "source": [
    "dy = np.append(np.diff(y),0)\n",
    "k = 3\n",
    "dyc = np.convolve(dy,np.ones(2*k+1)/(2*k+1))\n",
    "dyc = dyc[k:-k]\n",
    "mx = np.max(y)\n",
    "tx = np.argwhere(y==mx)\n",
    "txm = (tx[0]+tx[-1])/2\n",
    "t2 = np.min(np.argwhere((y>mx-mx/10) & (dyc<2.5) & (t>t1) & (t<txm)))\n",
    "t3 = np.max(np.argwhere((y>mx-mx/10) & (dyc>-2.5) & (t<t4) & (t>txm)))"
   ]
  },
  {
   "cell_type": "code",
   "execution_count": 80,
   "metadata": {},
   "outputs": [
    {
     "data": {
      "text/plain": [
       "(1304, 2311, 3660, 5879, array([3106.]))"
      ]
     },
     "execution_count": 80,
     "metadata": {},
     "output_type": "execute_result"
    }
   ],
   "source": [
    "t1,t2,t3,t4,txm"
   ]
  },
  {
   "cell_type": "code",
   "execution_count": 81,
   "metadata": {},
   "outputs": [
    {
     "data": {
      "text/plain": [
       "(1304, 2311, 3660, 5879)"
      ]
     },
     "execution_count": 81,
     "metadata": {},
     "output_type": "execute_result"
    }
   ],
   "source": [
    "t1,t2,t3,t4"
   ]
  },
  {
   "cell_type": "code",
   "execution_count": 82,
   "metadata": {},
   "outputs": [],
   "source": [
    "L = []\n",
    "for i,df in enumerate(ds):\n",
    "    t1,t2,t3,t4 = m2d.compute_points(df)\n",
    "    \n",
    "    L.append({'record' : i, 'points' : np.array([t1,t2,t3,t4])})\n",
    "    "
   ]
  },
  {
   "cell_type": "code",
   "execution_count": 83,
   "metadata": {},
   "outputs": [],
   "source": [
    "P = m2d.compute_all_sizes(ds)\n",
    "NL = P.max(axis=0)"
   ]
  },
  {
   "cell_type": "code",
   "execution_count": 84,
   "metadata": {},
   "outputs": [],
   "source": [
    "import numpy as np\n",
    "import pandas as pd\n",
    "import re\n",
    "\n",
    "\n",
    "# Initialisation des dictionnaires\n",
    "R = {c: [] for c in cols}\n",
    "rec = []\n",
    "\n",
    "# Boucle sur les DataFrames\n",
    "for df in ds:\n",
    "    rec.append(df.index.name)\n",
    "    I = m2d.compute_points(df)\n",
    "    I = [0] + list(I) + [len(df) - 1]  # Ajout des bornes\n",
    "\n",
    "    for V, C in zip(cols, df.columns):\n",
    "        x = df[C].values\n",
    "\n",
    "        # Convertir booléens en float si nécessaire\n",
    "        if df[C].dtype == bool:\n",
    "            x = x.astype(float)\n",
    "\n",
    "        # Normalisation\n",
    "        x0, x1 = np.max(x), np.min(x)\n",
    "        if x0 == x1:  # Éviter une division par zéro\n",
    "            xn = np.zeros_like(x)\n",
    "        else:\n",
    "            xn = (x - x0) / (x1 - x0)\n",
    "\n",
    "        # Initialisation de l'interpolation\n",
    "        Y = np.array([xn[0]])\n",
    "\n",
    "        for i in range(len(I) - 1):\n",
    "            t0 = df.index[I[i]].to_numpy().astype('int64') // 10**9\n",
    "            t1 = df.index[I[i+1]].to_numpy().astype('int64') // 10**9\n",
    "\n",
    "            # Vérifier que `NL[i]` existe\n",
    "            if i >= len(NL):\n",
    "                continue  # Évite les erreurs d'index\n",
    "\n",
    "            t = pd.date_range(start=pd.to_datetime(t0, unit='s'),\n",
    "                              end=pd.to_datetime(t1, unit='s'),\n",
    "                              periods=NL[i])\n",
    "\n",
    "            t_numeric = t.astype('int64') // 10**9  # Conversion en timestamps\n",
    "            xp = df.index[I[i]:I[i+1]].to_numpy().astype('int64') // 10**9\n",
    "            y = np.interp(t_numeric, xp, xn[I[i]:I[i+1]])\n",
    "\n",
    "            Y = np.hstack([Y, y[1:]])\n",
    "\n",
    "        R[V].append(Y)\n",
    "\n",
    "# Transformation en DataFrame\n",
    "for V in cols:\n",
    "    R[V] = pd.concat([pd.Series(r) for r in R[V]], axis=1)\n",
    "    R[V].columns = rec\n"
   ]
  },
  {
   "cell_type": "code",
   "execution_count": 85,
   "metadata": {},
   "outputs": [],
   "source": [
    "R = m2d.frust_phase_nrm(ds, NL)\n",
    "np.sum(NL)\n",
    "m2d.NORM_DATA = m2d.norm_data1\n",
    "F = m2d.frust_nrm(ds,np.sum(NL))"
   ]
  },
  {
   "cell_type": "markdown",
   "metadata": {},
   "source": [
    "## Calcul de l'erreur de synchronisation."
   ]
  },
  {
   "cell_type": "code",
   "execution_count": 86,
   "metadata": {},
   "outputs": [
    {
     "name": "stdout",
     "output_type": "stream",
     "text": [
      "Erreur de synchronisation:\n",
      "  * fruste    = 0.49\n",
      "  * par phase = 0.12,\n",
      "Gain relatif  = 0.76\n"
     ]
    }
   ],
   "source": [
    "dsf = np.mean(F['ALT'].max(axis=1)-F['ALT'].min(axis=1))\n",
    "dsp = np.mean(R['ALT'].max(axis=1)-R['ALT'].min(axis=1))\n",
    "g = (dsf-dsp)/dsf\n",
    "print(\"Erreur de synchronisation:\")\n",
    "print(f\"  * fruste    = {dsf:.2f}\")\n",
    "print(f\"  * par phase = {dsp:.2f},\")\n",
    "print(f\"Gain relatif  = {g:.2f}\")"
   ]
  },
  {
   "cell_type": "code",
   "execution_count": 87,
   "metadata": {},
   "outputs": [],
   "source": [
    "def global_synch_error(R):\n",
    "    \"\"\"\n",
    "    GLOBAL_SYNC_RELATIVE_ERROR - Calcul de l'erreur globale de synchronisation par colonne.\n",
    "\n",
    "    * F : calcul fruste.\n",
    "    * R : calcul de comparaison.\n",
    "    \"\"\"\n",
    "    # Nobre de points pour le rééchantillonnage fruste.\n",
    "    cols = list(R.keys())\n",
    "    N = len(R[cols[0]])\n",
    "    F = m2d.frust_nrm(ds,N)\n",
    "    E = pd.DataFrame(index=R.keys(),columns=['FRN','ERR','RG'],dtype=float)\n",
    "    for col in cols:\n",
    "        dsf = np.mean(F[col].max(axis=1)-F[col].min(axis=1))\n",
    "        dsp = np.mean(R[col].max(axis=1)-R[col].min(axis=1))\n",
    "        E.loc[col,'FRN'] = dsf\n",
    "        E.loc[col,'ERR'] = dsp\n",
    "        E.loc[col,'RG'] = (dsf-dsp)/dsf\n",
    "    return E"
   ]
  },
  {
   "cell_type": "code",
   "execution_count": 88,
   "metadata": {},
   "outputs": [
    {
     "data": {
      "text/html": [
       "<div>\n",
       "<style scoped>\n",
       "    .dataframe tbody tr th:only-of-type {\n",
       "        vertical-align: middle;\n",
       "    }\n",
       "\n",
       "    .dataframe tbody tr th {\n",
       "        vertical-align: top;\n",
       "    }\n",
       "\n",
       "    .dataframe thead th {\n",
       "        text-align: right;\n",
       "    }\n",
       "</style>\n",
       "<table border=\"1\" class=\"dataframe\">\n",
       "  <thead>\n",
       "    <tr style=\"text-align: right;\">\n",
       "      <th></th>\n",
       "      <th>FRN</th>\n",
       "      <th>ERR</th>\n",
       "      <th>RG</th>\n",
       "    </tr>\n",
       "  </thead>\n",
       "  <tbody>\n",
       "    <tr>\n",
       "      <th>ALT</th>\n",
       "      <td>0.494661</td>\n",
       "      <td>0.121050</td>\n",
       "      <td>0.755287</td>\n",
       "    </tr>\n",
       "    <tr>\n",
       "      <th>Tisa</th>\n",
       "      <td>0.496334</td>\n",
       "      <td>0.120676</td>\n",
       "      <td>0.756864</td>\n",
       "    </tr>\n",
       "    <tr>\n",
       "      <th>TAS</th>\n",
       "      <td>0.404824</td>\n",
       "      <td>0.133140</td>\n",
       "      <td>0.671116</td>\n",
       "    </tr>\n",
       "    <tr>\n",
       "      <th>Vz</th>\n",
       "      <td>0.422180</td>\n",
       "      <td>0.249000</td>\n",
       "      <td>0.410204</td>\n",
       "    </tr>\n",
       "    <tr>\n",
       "      <th>Masse</th>\n",
       "      <td>0.112770</td>\n",
       "      <td>0.208736</td>\n",
       "      <td>-0.850994</td>\n",
       "    </tr>\n",
       "    <tr>\n",
       "      <th>F</th>\n",
       "      <td>0.366083</td>\n",
       "      <td>0.200518</td>\n",
       "      <td>0.452261</td>\n",
       "    </tr>\n",
       "    <tr>\n",
       "      <th>CR</th>\n",
       "      <td>0.688492</td>\n",
       "      <td>0.435931</td>\n",
       "      <td>0.366832</td>\n",
       "    </tr>\n",
       "  </tbody>\n",
       "</table>\n",
       "</div>"
      ],
      "text/plain": [
       "            FRN       ERR        RG\n",
       "ALT    0.494661  0.121050  0.755287\n",
       "Tisa   0.496334  0.120676  0.756864\n",
       "TAS    0.404824  0.133140  0.671116\n",
       "Vz     0.422180  0.249000  0.410204\n",
       "Masse  0.112770  0.208736 -0.850994\n",
       "F      0.366083  0.200518  0.452261\n",
       "CR     0.688492  0.435931  0.366832"
      ]
     },
     "execution_count": 88,
     "metadata": {},
     "output_type": "execute_result"
    }
   ],
   "source": [
    "global_synch_error(R)"
   ]
  },
  {
   "cell_type": "code",
   "execution_count": 89,
   "metadata": {},
   "outputs": [
    {
     "data": {
      "image/png": "[encoded data removed]",
      "text/plain": [
       "<Figure size 1000x500 with 1 Axes>"
      ]
     },
     "metadata": {},
     "output_type": "display_data"
    }
   ],
   "source": [
    "import matplotlib.pyplot as plt\n",
    "\n",
    "error_results = global_synch_error(R)\n",
    "\n",
    "# Création de la figure\n",
    "plt.figure(figsize=(10, 5))\n",
    "\n",
    "# Tracer les barres pour chaque métrique\n",
    "plt.bar(error_results.index, error_results['FRN'], label='FRN', alpha=0.7, color='blue')\n",
    "plt.bar(error_results.index, error_results['ERR'], label='ERR', alpha=0.7, color='red')\n",
    "plt.bar(error_results.index, error_results['RG'], label='RG', alpha=0.7, color='green')\n",
    "\n",
    "# Ajouter labels et titre\n",
    "plt.xlabel(\"Variables\")\n",
    "plt.ylabel(\"Valeurs d'erreur\")\n",
    "plt.title(\"Erreur globale de synchronisation par variable\")\n",
    "plt.xticks(rotation=45)\n",
    "plt.legend()\n",
    "plt.grid(axis='y', linestyle='--', alpha=0.7)\n",
    "\n",
    "# Affichage du graphique\n",
    "plt.show()\n"
   ]
  },
  {
   "cell_type": "markdown",
   "metadata": {},
   "source": [
    "## Erreur de reconstruction."
   ]
  },
  {
   "cell_type": "code",
   "execution_count": 90,
   "metadata": {},
   "outputs": [],
   "source": [
    "import numpy as np\n",
    "import pandas as pd\n",
    "\n",
    "def global_reconst_error(ds, R):\n",
    "\n",
    "    cols = list(R.keys())\n",
    "    errors = {V: [] for V in cols}\n",
    "\n",
    "    for i, df in enumerate(ds):\n",
    "        time_col = df.index  \n",
    "        for V, C in zip(cols, df.columns):\n",
    "            x = df[C].values\n",
    "            xn = m2d.NORM_DATA(x)  \n",
    "            if time_col.name not in R[V].columns:\n",
    "                continue  \n",
    "\n",
    "            y = R[V][time_col.name].values  # Données reconstruites\n",
    "            yn = np.interp(time_col, R[V].index, y)  \n",
    "            \n",
    "            errors[V].append(np.mean(np.abs(xn - yn)))  # Calcul de l'erreur moyenne absolue\n",
    "\n",
    "    return {V: np.mean(errors[V]) for V in cols if errors[V]}  \n"
   ]
  },
  {
   "cell_type": "code",
   "execution_count": 91,
   "metadata": {},
   "outputs": [
    {
     "data": {
      "text/plain": [
       "{'ALT': 0.5784921804402381,\n",
       " 'Tisa': 0.5787654197837979,\n",
       " 'TAS': 0.6563118103727508,\n",
       " 'Vz': 0.11668667885552594,\n",
       " 'Masse': 0.43871561273987025,\n",
       " 'F': 0.11524465154441554,\n",
       " 'CR': 0.4118690247261505}"
      ]
     },
     "execution_count": 91,
     "metadata": {},
     "output_type": "execute_result"
    }
   ],
   "source": [
    "global_reconst_error(ds,R)"
   ]
  },
  {
   "cell_type": "code",
   "execution_count": 92,
   "metadata": {},
   "outputs": [
    {
     "data": {
      "image/png": "[encoded data removed]",
      "text/plain": [
       "<Figure size 1000x500 with 1 Axes>"
      ]
     },
     "metadata": {},
     "output_type": "display_data"
    }
   ],
   "source": [
    "import matplotlib.pyplot as plt\n",
    "\n",
    "error_results = global_reconst_error(ds, R)\n",
    "\n",
    "plt.figure(figsize=(10, 5))\n",
    "plt.bar(error_results.keys(), error_results.values(), color='skyblue')\n",
    "plt.xlabel(\"Variables\")\n",
    "plt.ylabel(\"Erreur de reconstruction\")\n",
    "plt.title(\"Erreur de reconstruction par variable\")\n",
    "plt.xticks(rotation=45)\n",
    "plt.grid(axis='y', linestyle='--', alpha=0.7)\n",
    "plt.show()\n"
   ]
  }
 ],
 "metadata": {
  "kernelspec": {
   "display_name": "Python 3",
   "language": "python",
   "name": "python3"
  },
  "language_info": {
   "codemirror_mode": {
    "name": "ipython",
    "version": 3
   },
   "file_extension": ".py",
   "mimetype": "text/x-python",
   "name": "python",
   "nbconvert_exporter": "python",
   "pygments_lexer": "ipython3",
   "version": "3.12.6"
  }
 },
 "nbformat": 4,
 "nbformat_minor": 2
}
