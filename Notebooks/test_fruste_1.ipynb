{
 "cells": [
  {
   "cell_type": "markdown",
   "metadata": {},
   "source": [
    "# Test de rectangularisation fruste\n",
    "\n",
    "_Jérôme Lacaille_ (20/12/2024)"
   ]
  },
  {
   "cell_type": "code",
   "execution_count": 1,
   "metadata": {},
   "outputs": [],
   "source": [
    "# Import minimal.\n",
    "\n",
    "import os\n",
    "import numpy as np\n",
    "import pandas as pd\n",
    "import tabata as tbt\n",
    "import matplotlib.pyplot as plt\n",
    "import ipywidgets as widgets\n",
    "%matplotlib inline\n",
    "\n"
   ]
  },
  {
   "cell_type": "markdown",
   "metadata": {},
   "source": [
    "## 1. Renormalisation des données."
   ]
  },
  {
   "cell_type": "code",
   "execution_count": 2,
   "metadata": {},
   "outputs": [
    {
     "data": {
      "text/plain": [
       "OPSET '../Data/cleaned/AFL1EB_cleaned_final.h5' de 47 signaux.\n",
       "        position courante : sigpos  = 0\n",
       "        variable courante : colname = ALT[m]\n",
       "        phase surlignée   : phase   = None"
      ]
     },
     "execution_count": 2,
     "metadata": {},
     "output_type": "execute_result"
    }
   ],
   "source": [
    "# Chargement des données.\n",
    "datadir = \"../Data/cleaned/\"\n",
    "final_file = datadir + \"AFL1EB_cleaned_final.h5\"\n",
    "norm_file = datadir + \"AFL1EB_normed_alt.h5\"\n",
    "dsc = tbt.Opset(final_file)\n",
    "dsc"
   ]
  },
  {
   "cell_type": "code",
   "execution_count": 3,
   "metadata": {},
   "outputs": [
    {
     "data": {
      "application/vnd.jupyter.widget-view+json": {
       "model_id": "8590439045a14b958725902490a67895",
       "version_major": 2,
       "version_minor": 0
      },
      "text/plain": [
       "VBox(children=(HBox(children=(Dropdown(description='Variable :', options=('ALT[m]', 'Tisa[K]', 'TAS[m/s]', 'Vz…"
      ]
     },
     "execution_count": 3,
     "metadata": {},
     "output_type": "execute_result"
    }
   ],
   "source": [
    "dsc.plot()"
   ]
  },
  {
   "cell_type": "code",
   "execution_count": 5,
   "metadata": {},
   "outputs": [
    {
     "data": {
      "text/plain": [
       "OPSET '../Data/cleaned/AFL1EB_normed_alt.h5' de 47 signaux.\n",
       "        position courante : sigpos  = 46\n",
       "        variable courante : colname = ALT[m]\n",
       "        phase surlignée   : phase   = None"
      ]
     },
     "execution_count": 5,
     "metadata": {},
     "output_type": "execute_result"
    }
   ],
   "source": [
    "# Ajout d'une référence normalisée à utiliser pour la transformation.\n",
    "\n",
    "dsn1 = tbt.Opset(norm_file).clean()\n",
    "for df in dsc:\n",
    "    alt = df[\"ALT[m]\"]\n",
    "    max_alt = np.max(alt)\n",
    "    min_alt = np.min(alt)\n",
    "    altn = (alt-min_alt)/(max_alt-min_alt)\n",
    "    df[\"ALTN[-]\"] = altn\n",
    "    dsn1.put(df)\n",
    "dsn1"
   ]
  },
  {
   "cell_type": "code",
   "execution_count": 6,
   "metadata": {},
   "outputs": [
    {
     "data": {
      "application/vnd.jupyter.widget-view+json": {
       "model_id": "3dfe6a297db643f7a3219c5dfb507305",
       "version_major": 2,
       "version_minor": 0
      },
      "text/plain": [
       "VBox(children=(HBox(children=(Dropdown(description='Variable :', options=('ALT[m]', 'Tisa[K]', 'TAS[m/s]', 'Vz…"
      ]
     },
     "execution_count": 6,
     "metadata": {},
     "output_type": "execute_result"
    }
   ],
   "source": [
    "dsn1.plot()"
   ]
  },
  {
   "cell_type": "code",
   "execution_count": 7,
   "metadata": {},
   "outputs": [
    {
     "data": {
      "text/plain": [
       "DatetimeIndex(['2013-02-20 02:58:00', '2013-02-20 02:58:01',\n",
       "               '2013-02-20 02:58:02', '2013-02-20 02:58:03',\n",
       "               '2013-02-20 02:58:04', '2013-02-20 02:58:05',\n",
       "               '2013-02-20 02:58:06', '2013-02-20 02:58:07',\n",
       "               '2013-02-20 02:58:08', '2013-02-20 02:58:09',\n",
       "               ...\n",
       "               '2013-02-20 05:33:17', '2013-02-20 05:33:18',\n",
       "               '2013-02-20 05:33:19', '2013-02-20 05:33:20',\n",
       "               '2013-02-20 05:33:21', '2013-02-20 05:33:22',\n",
       "               '2013-02-20 05:33:23', '2013-02-20 05:33:24',\n",
       "               '2013-02-20 05:33:25', '2013-02-20 05:33:26'],\n",
       "              dtype='datetime64[ns]', name='record_51', length=9327, freq='s')"
      ]
     },
     "execution_count": 7,
     "metadata": {},
     "output_type": "execute_result"
    }
   ],
   "source": [
    "df = dsn1.df\n",
    "x = df[\"ALTN[-]\"]\n",
    "x.index"
   ]
  },
  {
   "cell_type": "code",
   "execution_count": 8,
   "metadata": {},
   "outputs": [
    {
     "data": {
      "text/plain": [
       "'record_51'"
      ]
     },
     "execution_count": 8,
     "metadata": {},
     "output_type": "execute_result"
    }
   ],
   "source": [
    "df.index.name"
   ]
  },
  {
   "cell_type": "code",
   "execution_count": 22,
   "metadata": {},
   "outputs": [],
   "source": [
    "t0 = x.index[0].value\n",
    "t1 = x.index[-1].value\n",
    "t = pd.to_datetime(np.linspace(t0,t1,50))\n",
    "y = np.interp(t,x.index,x.values)\n"
   ]
  },
  {
   "cell_type": "code",
   "execution_count": 24,
   "metadata": {},
   "outputs": [
    {
     "name": "stdout",
     "output_type": "stream",
     "text": [
      "len(x)=9327\n",
      "len(y)=50\n"
     ]
    },
    {
     "data": {
      "image/png": "[encoded data removed]",
      "text/plain": [
       "<Figure size 640x480 with 1 Axes>"
      ]
     },
     "metadata": {},
     "output_type": "display_data"
    }
   ],
   "source": [
    "plt.plot(x,':')\n",
    "plt.plot(t,y,'.')\n",
    "print(f\"len(x)={len(x)}\")\n",
    "print(f\"len(y)={len(y)}\")"
   ]
  },
  {
   "cell_type": "code",
   "execution_count": null,
   "metadata": {},
   "outputs": [],
   "source": [
    "# Création d'une interpolation linéaire.\n",
    "\n",
    "w = len(dsc.df.columns)\n",
    "n = len(dsc)\n",
    "N = 50\n",
    "Y = []\n",
    "M = []\n",
    "Cols = []\n",
    "for df in dsn1:\n",
    "    x = df[\"ALTN[-]\"]\n",
    "    t0 = x.index[0].value\n",
    "    t1 = x.index[-1].value\n",
    "    M.append((x.index[0],x.index[-1]))\n",
    "    t = pd.to_datetime(np.linspace(t0,t1,N))\n",
    "    y = np.interp(t,x.index,x.values)\n",
    "    Y.append(y)\n",
    "    Cols.append(df.index.name)\n",
    "ALT = pd.DataFrame(data=np.vstack(Y).T,columns=Cols)"
   ]
  },
  {
   "cell_type": "code",
   "execution_count": 41,
   "metadata": {},
   "outputs": [
    {
     "data": {
      "text/html": [
       "<div>\n",
       "<style scoped>\n",
       "    .dataframe tbody tr th:only-of-type {\n",
       "        vertical-align: middle;\n",
       "    }\n",
       "\n",
       "    .dataframe tbody tr th {\n",
       "        vertical-align: top;\n",
       "    }\n",
       "\n",
       "    .dataframe thead th {\n",
       "        text-align: right;\n",
       "    }\n",
       "</style>\n",
       "<table border=\"1\" class=\"dataframe\">\n",
       "  <thead>\n",
       "    <tr style=\"text-align: right;\">\n",
       "      <th></th>\n",
       "      <th>record_00</th>\n",
       "      <th>record_01</th>\n",
       "      <th>record_02</th>\n",
       "      <th>record_03</th>\n",
       "      <th>record_04</th>\n",
       "      <th>record_05</th>\n",
       "      <th>record_11</th>\n",
       "      <th>record_12</th>\n",
       "      <th>record_13</th>\n",
       "      <th>record_14</th>\n",
       "      <th>...</th>\n",
       "      <th>record_42</th>\n",
       "      <th>record_43</th>\n",
       "      <th>record_44</th>\n",
       "      <th>record_45</th>\n",
       "      <th>record_46</th>\n",
       "      <th>record_47</th>\n",
       "      <th>record_48</th>\n",
       "      <th>record_49</th>\n",
       "      <th>record_50</th>\n",
       "      <th>record_51</th>\n",
       "    </tr>\n",
       "  </thead>\n",
       "  <tbody>\n",
       "    <tr>\n",
       "      <th>0</th>\n",
       "      <td>0.000470</td>\n",
       "      <td>0.008315</td>\n",
       "      <td>0.001134</td>\n",
       "      <td>0.003082</td>\n",
       "      <td>0.003842</td>\n",
       "      <td>0.003980</td>\n",
       "      <td>0.003732</td>\n",
       "      <td>0.001595</td>\n",
       "      <td>0.004914</td>\n",
       "      <td>0.002620</td>\n",
       "      <td>...</td>\n",
       "      <td>0.002276</td>\n",
       "      <td>0.002302</td>\n",
       "      <td>0.003939</td>\n",
       "      <td>0.001139</td>\n",
       "      <td>0.003540</td>\n",
       "      <td>0.003756</td>\n",
       "      <td>0.001682</td>\n",
       "      <td>0.001393</td>\n",
       "      <td>0.001800</td>\n",
       "      <td>0.001937</td>\n",
       "    </tr>\n",
       "    <tr>\n",
       "      <th>1</th>\n",
       "      <td>0.000470</td>\n",
       "      <td>0.008432</td>\n",
       "      <td>0.001247</td>\n",
       "      <td>0.002972</td>\n",
       "      <td>0.003705</td>\n",
       "      <td>0.004209</td>\n",
       "      <td>0.003732</td>\n",
       "      <td>0.001481</td>\n",
       "      <td>0.004935</td>\n",
       "      <td>0.002620</td>\n",
       "      <td>...</td>\n",
       "      <td>0.002200</td>\n",
       "      <td>0.002302</td>\n",
       "      <td>0.003684</td>\n",
       "      <td>0.001253</td>\n",
       "      <td>0.003319</td>\n",
       "      <td>0.003961</td>\n",
       "      <td>0.001923</td>\n",
       "      <td>0.001741</td>\n",
       "      <td>0.001929</td>\n",
       "      <td>0.001937</td>\n",
       "    </tr>\n",
       "    <tr>\n",
       "      <th>2</th>\n",
       "      <td>0.000257</td>\n",
       "      <td>0.008384</td>\n",
       "      <td>0.001134</td>\n",
       "      <td>0.002972</td>\n",
       "      <td>0.003568</td>\n",
       "      <td>0.003980</td>\n",
       "      <td>0.003732</td>\n",
       "      <td>0.001709</td>\n",
       "      <td>0.005031</td>\n",
       "      <td>0.002620</td>\n",
       "      <td>...</td>\n",
       "      <td>0.002276</td>\n",
       "      <td>0.002302</td>\n",
       "      <td>0.003811</td>\n",
       "      <td>0.001253</td>\n",
       "      <td>0.003540</td>\n",
       "      <td>0.003756</td>\n",
       "      <td>0.001923</td>\n",
       "      <td>0.001625</td>\n",
       "      <td>0.001929</td>\n",
       "      <td>0.001937</td>\n",
       "    </tr>\n",
       "    <tr>\n",
       "      <th>3</th>\n",
       "      <td>0.000352</td>\n",
       "      <td>0.008432</td>\n",
       "      <td>0.001474</td>\n",
       "      <td>0.003192</td>\n",
       "      <td>0.003772</td>\n",
       "      <td>0.003980</td>\n",
       "      <td>0.003491</td>\n",
       "      <td>0.001709</td>\n",
       "      <td>0.005031</td>\n",
       "      <td>0.002620</td>\n",
       "      <td>...</td>\n",
       "      <td>0.002390</td>\n",
       "      <td>0.002412</td>\n",
       "      <td>0.003430</td>\n",
       "      <td>0.001367</td>\n",
       "      <td>0.003983</td>\n",
       "      <td>0.004087</td>\n",
       "      <td>0.002163</td>\n",
       "      <td>0.001277</td>\n",
       "      <td>0.001929</td>\n",
       "      <td>0.002051</td>\n",
       "    </tr>\n",
       "    <tr>\n",
       "      <th>4</th>\n",
       "      <td>0.000587</td>\n",
       "      <td>0.008432</td>\n",
       "      <td>0.001360</td>\n",
       "      <td>0.002092</td>\n",
       "      <td>0.003705</td>\n",
       "      <td>0.003980</td>\n",
       "      <td>0.003732</td>\n",
       "      <td>0.001709</td>\n",
       "      <td>0.005031</td>\n",
       "      <td>0.002734</td>\n",
       "      <td>...</td>\n",
       "      <td>0.001742</td>\n",
       "      <td>0.001754</td>\n",
       "      <td>0.003684</td>\n",
       "      <td>0.001025</td>\n",
       "      <td>0.003761</td>\n",
       "      <td>0.040271</td>\n",
       "      <td>0.002043</td>\n",
       "      <td>0.002205</td>\n",
       "      <td>0.001929</td>\n",
       "      <td>0.002279</td>\n",
       "    </tr>\n",
       "  </tbody>\n",
       "</table>\n",
       "<p>5 rows × 47 columns</p>\n",
       "</div>"
      ],
      "text/plain": [
       "   record_00  record_01  record_02  record_03  record_04  record_05  \\\n",
       "0   0.000470   0.008315   0.001134   0.003082   0.003842   0.003980   \n",
       "1   0.000470   0.008432   0.001247   0.002972   0.003705   0.004209   \n",
       "2   0.000257   0.008384   0.001134   0.002972   0.003568   0.003980   \n",
       "3   0.000352   0.008432   0.001474   0.003192   0.003772   0.003980   \n",
       "4   0.000587   0.008432   0.001360   0.002092   0.003705   0.003980   \n",
       "\n",
       "   record_11  record_12  record_13  record_14  ...  record_42  record_43  \\\n",
       "0   0.003732   0.001595   0.004914   0.002620  ...   0.002276   0.002302   \n",
       "1   0.003732   0.001481   0.004935   0.002620  ...   0.002200   0.002302   \n",
       "2   0.003732   0.001709   0.005031   0.002620  ...   0.002276   0.002302   \n",
       "3   0.003491   0.001709   0.005031   0.002620  ...   0.002390   0.002412   \n",
       "4   0.003732   0.001709   0.005031   0.002734  ...   0.001742   0.001754   \n",
       "\n",
       "   record_44  record_45  record_46  record_47  record_48  record_49  \\\n",
       "0   0.003939   0.001139   0.003540   0.003756   0.001682   0.001393   \n",
       "1   0.003684   0.001253   0.003319   0.003961   0.001923   0.001741   \n",
       "2   0.003811   0.001253   0.003540   0.003756   0.001923   0.001625   \n",
       "3   0.003430   0.001367   0.003983   0.004087   0.002163   0.001277   \n",
       "4   0.003684   0.001025   0.003761   0.040271   0.002043   0.002205   \n",
       "\n",
       "   record_50  record_51  \n",
       "0   0.001800   0.001937  \n",
       "1   0.001929   0.001937  \n",
       "2   0.001929   0.001937  \n",
       "3   0.001929   0.002051  \n",
       "4   0.001929   0.002279  \n",
       "\n",
       "[5 rows x 47 columns]"
      ]
     },
     "execution_count": 41,
     "metadata": {},
     "output_type": "execute_result"
    }
   ],
   "source": [
    "ALT.head()"
   ]
  },
  {
   "cell_type": "code",
   "execution_count": 48,
   "metadata": {},
   "outputs": [
    {
     "data": {
      "text/plain": [
       "[(Timestamp('2012-07-10 11:08:00'), Timestamp('2012-07-10 13:11:48')),\n",
       " (Timestamp('2012-07-10 14:10:00'), Timestamp('2012-07-10 16:14:18')),\n",
       " (Timestamp('2012-07-27 03:40:00'), Timestamp('2012-07-27 05:37:21')),\n",
       " (Timestamp('2012-07-27 06:34:00'), Timestamp('2012-07-27 08:21:36')),\n",
       " (Timestamp('2012-08-03 01:24:00'), Timestamp('2012-08-03 02:44:59')),\n",
       " (Timestamp('2012-08-03 03:25:00'), Timestamp('2012-08-03 04:23:29')),\n",
       " (Timestamp('2013-01-19 20:25:00'), Timestamp('2013-01-19 22:22:06')),\n",
       " (Timestamp('2013-01-29 03:58:00'), Timestamp('2013-01-29 05:56:19')),\n",
       " (Timestamp('2013-01-29 06:38:00'), Timestamp('2013-01-29 08:35:45')),\n",
       " (Timestamp('2013-02-06 02:49:00'), Timestamp('2013-02-06 05:00:25')),\n",
       " (Timestamp('2013-02-06 06:10:00'), Timestamp('2013-02-06 08:13:29')),\n",
       " (Timestamp('2013-02-06 10:26:00'), Timestamp('2013-02-06 12:29:40')),\n",
       " (Timestamp('2013-02-06 13:10:00'), Timestamp('2013-02-06 15:22:48')),\n",
       " (Timestamp('2013-02-06 19:48:00'), Timestamp('2013-02-06 21:59:26')),\n",
       " (Timestamp('2013-02-06 22:48:00'), Timestamp('2013-02-07 00:46:03')),\n",
       " (Timestamp('2013-02-07 04:40:00'), Timestamp('2013-02-07 06:32:05')),\n",
       " (Timestamp('2013-02-07 07:05:00'), Timestamp('2013-02-07 08:30:15')),\n",
       " (Timestamp('2013-02-07 10:34:00'), Timestamp('2013-02-07 13:04:36')),\n",
       " (Timestamp('2013-02-07 14:02:00'), Timestamp('2013-02-07 16:46:11')),\n",
       " (Timestamp('2013-02-08 04:30:00'), Timestamp('2013-02-08 06:59:14')),\n",
       " (Timestamp('2013-02-08 07:28:00'), Timestamp('2013-02-08 09:17:49')),\n",
       " (Timestamp('2013-02-08 19:40:00'), Timestamp('2013-02-08 21:50:11')),\n",
       " (Timestamp('2013-02-08 23:02:00'), Timestamp('2013-02-09 00:57:49')),\n",
       " (Timestamp('2013-02-09 03:25:00'), Timestamp('2013-02-09 05:18:15')),\n",
       " (Timestamp('2013-02-09 05:58:00'), Timestamp('2013-02-09 07:41:34')),\n",
       " (Timestamp('2013-02-10 01:51:00'), Timestamp('2013-02-10 03:17:14')),\n",
       " (Timestamp('2013-02-10 03:47:00'), Timestamp('2013-02-10 04:51:05')),\n",
       " (Timestamp('2013-02-10 06:06:00'), Timestamp('2013-02-10 10:01:25')),\n",
       " (Timestamp('2013-02-10 10:38:00'), Timestamp('2013-02-10 14:07:34')),\n",
       " (Timestamp('2013-02-10 20:02:00'), Timestamp('2013-02-10 21:54:39')),\n",
       " (Timestamp('2013-02-10 22:48:00'), Timestamp('2013-02-11 00:47:35')),\n",
       " (Timestamp('2013-02-11 07:52:00'), Timestamp('2013-02-11 10:56:33')),\n",
       " (Timestamp('2013-02-11 11:28:00'), Timestamp('2013-02-11 14:56:09')),\n",
       " (Timestamp('2013-02-12 19:16:00'), Timestamp('2013-02-12 21:10:47')),\n",
       " (Timestamp('2013-02-13 20:30:00'), Timestamp('2013-02-13 22:40:48')),\n",
       " (Timestamp('2013-02-13 23:48:00'), Timestamp('2013-02-14 02:11:14')),\n",
       " (Timestamp('2013-02-14 02:57:00'), Timestamp('2013-02-14 05:28:37')),\n",
       " (Timestamp('2013-02-14 06:14:00'), Timestamp('2013-02-14 08:45:38')),\n",
       " (Timestamp('2013-02-14 10:42:00'), Timestamp('2013-02-14 12:53:07')),\n",
       " (Timestamp('2013-02-14 13:36:00'), Timestamp('2013-02-14 15:18:48')),\n",
       " (Timestamp('2013-02-14 21:05:00'), Timestamp('2013-02-14 23:04:22')),\n",
       " (Timestamp('2013-02-15 00:02:00'), Timestamp('2013-02-15 02:12:58')),\n",
       " (Timestamp('2013-02-16 23:21:00'), Timestamp('2013-02-17 01:42:24')),\n",
       " (Timestamp('2013-02-19 09:39:00'), Timestamp('2013-02-19 12:32:07')),\n",
       " (Timestamp('2013-02-19 13:25:00'), Timestamp('2013-02-19 16:36:21')),\n",
       " (Timestamp('2013-02-19 22:30:00'), Timestamp('2013-02-19 23:45:46')),\n",
       " (Timestamp('2013-02-20 02:58:00'), Timestamp('2013-02-20 05:33:26'))]"
      ]
     },
     "execution_count": 48,
     "metadata": {},
     "output_type": "execute_result"
    }
   ],
   "source": [
    "M"
   ]
  },
  {
   "cell_type": "code",
   "execution_count": null,
   "metadata": {},
   "outputs": [],
   "source": []
  }
 ],
 "metadata": {
  "kernelspec": {
   "display_name": "wrk11.1",
   "language": "python",
   "name": "python3"
  },
  "language_info": {
   "codemirror_mode": {
    "name": "ipython",
    "version": 3
   },
   "file_extension": ".py",
   "mimetype": "text/x-python",
   "name": "python",
   "nbconvert_exporter": "python",
   "pygments_lexer": "ipython3",
   "version": "3.11.3"
  }
 },
 "nbformat": 4,
 "nbformat_minor": 2
}
