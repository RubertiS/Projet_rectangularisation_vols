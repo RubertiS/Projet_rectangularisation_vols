{
 "cells": [
  {
   "cell_type": "code",
   "execution_count": 15,
   "metadata": {},
   "outputs": [],
   "source": [
    "import tabata as tbt\n",
    "from tabata import *\n",
    "import warnings\n",
    "warnings.simplefilter(action='ignore', category=FutureWarning)\n"
   ]
  },
  {
   "cell_type": "code",
   "execution_count": 16,
   "metadata": {},
   "outputs": [],
   "source": [
    "storename = \"../tabata/notebooks/data/in/AFL1EB.h5\"\n",
    "ds = Opset(storename)"
   ]
  },
  {
   "cell_type": "code",
   "execution_count": 17,
   "metadata": {},
   "outputs": [
    {
     "name": "stdout",
     "output_type": "stream",
     "text": [
      "Taille du df sale 52\n",
      "Taille du df propre 48\n",
      "Fichier nettoyé sauvegardé sous ../Data/cleaned/AFL1EB_cleaned.h5\n"
     ]
    }
   ],
   "source": [
    "import pandas as pd\n",
    "import numpy as np\n",
    "\n",
    "def clean_data(input_file, output_file):\n",
    "    # Chargement des données\n",
    "    ds = Opset(input_file)\n",
    "    print(f\"Taille du df sale {len(ds)}\")\n",
    "    clean_ds = Opset(output_file)\n",
    "    clean_ds.clean()\n",
    "    \n",
    "    for df in ds.iterator():\n",
    "        if max(df[\"F[N]\"]) > 0:\n",
    "            x = df.index\n",
    "            t = (x - x[0]).total_seconds()\n",
    "            dt = np.diff(t)\n",
    "            i = np.argwhere(dt != dt[1])\n",
    "            if len(i) > 0:\n",
    "                name = df.index.name\n",
    "                df.index = pd.date_range(x[0], periods=len(df), freq=x[1] - x[0])\n",
    "                df.index.name = name \n",
    "                \n",
    "            clean_ds.put(df)\n",
    "    print(f\"Taille du df propre {len(clean_ds)}\")\n",
    "    print(f\"Fichier nettoyé sauvegardé sous {output_file}\")\n",
    "\n",
    "input_file = \"../tabata/notebooks/data/in/AFL1EB.h5\"\n",
    "output_file = \"../Data/cleaned/AFL1EB_cleaned.h5\"\n",
    "clean_data(input_file, output_file)\n"
   ]
  },
  {
   "cell_type": "code",
   "execution_count": null,
   "metadata": {},
   "outputs": [],
   "source": []
  }
 ],
 "metadata": {
  "kernelspec": {
   "display_name": "venv",
   "language": "python",
   "name": "python3"
  },
  "language_info": {
   "codemirror_mode": {
    "name": "ipython",
    "version": 3
   },
   "file_extension": ".py",
   "mimetype": "text/x-python",
   "name": "python",
   "nbconvert_exporter": "python",
   "pygments_lexer": "ipython3",
   "version": "3.12.0"
  }
 },
 "nbformat": 4,
 "nbformat_minor": 2
}
