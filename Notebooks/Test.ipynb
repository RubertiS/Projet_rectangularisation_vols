{
 "cells": [
  {
   "cell_type": "markdown",
   "metadata": {},
   "source": [
    "# Génération du fichier simple d'essai propre\n",
    "\n",
    "J'ai repris les codes de Steve et j'ai changé juste les noms des répoertoires et des fichiers.\n",
    "Après exécution dans Data/cleaned le fichier final est AFL1EB_cleand_final."
   ]
  },
  {
   "cell_type": "code",
   "execution_count": 11,
   "metadata": {},
   "outputs": [],
   "source": [
    "import tabata as tbt\n",
    "from tabata import *\n",
    "import warnings\n",
    "warnings.simplefilter(action='ignore', category=FutureWarning)\n"
   ]
  },
  {
   "cell_type": "code",
   "execution_count": 12,
   "metadata": {},
   "outputs": [
    {
     "name": "stdout",
     "output_type": "stream",
     "text": [
      "Taille du df sale : 52\n",
      "Taille du df après nettoyage initial : 48\n",
      "Vol exclu (faux atterrissage détecté) : Vol #6\n",
      "Taille du df final : 47\n",
      "Fichier nettoyé et final sauvegardé sous ../Data/cleaned/AFL1EB_cleaned_final.h5\n"
     ]
    }
   ],
   "source": [
    "import pandas as pd\n",
    "import numpy as np\n",
    "from scipy.signal import find_peaks\n",
    "\n",
    "def clean_data(input_file, output_file, final_file):\n",
    "    ds = Opset(input_file)\n",
    "    print(f\"Taille du df sale : {len(ds)}\")\n",
    "    \n",
    "    clean_ds = Opset(output_file)\n",
    "    clean_ds.clean()\n",
    "    \n",
    "    for idx, df in enumerate(ds.iterator()):\n",
    "        if max(df[\"F[N]\"]) > 0:\n",
    "            x = df.index\n",
    "            t = (x - x[0]).total_seconds()\n",
    "            dt = np.diff(t)\n",
    "            i = np.argwhere(dt != dt[1])\n",
    "            if len(i) > 0:\n",
    "                name = df.index.name\n",
    "                df.index = pd.date_range(x[0], periods=len(df), freq=x[1] - x[0])\n",
    "                df.index.name = name \n",
    "\n",
    "            clean_ds.put(df)\n",
    "\n",
    "    print(f\"Taille du df après nettoyage initial : {len(clean_ds)}\")\n",
    "    \n",
    "    final_clean_ds = Opset(final_file)\n",
    "    final_clean_ds.clean()\n",
    "\n",
    "    for idx, df in enumerate(clean_ds.iterator()):\n",
    "        if \"ALT[m]\" in df.columns:\n",
    "            altitude = df[\"ALT[m]\"]\n",
    "\n",
    "            inversed_altitude = -altitude\n",
    "            minima_indices, _ = find_peaks(inversed_altitude, prominence=100)\n",
    "            minima_values = altitude.iloc[minima_indices]\n",
    "\n",
    "            has_fake_landing = False\n",
    "            for idx_min in minima_indices:\n",
    "                if idx_min != 0 and idx_min != len(altitude) - 1:\n",
    "                    if altitude.iloc[idx_min] < 500:  \n",
    "                        subsequent_altitudes = altitude.iloc[idx_min:]\n",
    "                        if (subsequent_altitudes > altitude.iloc[idx_min] + 1000).any():\n",
    "                            has_fake_landing = True\n",
    "                            break\n",
    "            if has_fake_landing:\n",
    "                print(f\"Vol exclu (faux atterrissage détecté) : Vol #{idx}\")\n",
    "                continue\n",
    "\n",
    "        final_clean_ds.put(df)\n",
    "\n",
    "    print(f\"Taille du df final : {len(final_clean_ds)}\")\n",
    "    print(f\"Fichier nettoyé et final sauvegardé sous {final_file}\")\n",
    "\n",
    "input_file = \"../../tabata/notebooks/data/in/AFL1EB.h5\"\n",
    "output_file = \"../Data/cleaned/AFL1EB_cleaned.h5\"\n",
    "final_file = \"../Data/cleaned/AFL1EB_cleaned_final.h5\"\n",
    "clean_data(input_file, output_file, final_file)\n"
   ]
  },
  {
   "cell_type": "code",
   "execution_count": 13,
   "metadata": {},
   "outputs": [
    {
     "data": {
      "text/plain": [
       "OPSET '../Data/cleaned/AFL1EB_cleaned_final.h5' de 47 signaux.\n",
       "        position courante : sigpos  = 0\n",
       "        variable courante : colname = ALT[m]\n",
       "        phase surlignée   : phase   = None"
      ]
     },
     "execution_count": 13,
     "metadata": {},
     "output_type": "execute_result"
    }
   ],
   "source": [
    "dsc = Opset(final_file)\n",
    "dsc"
   ]
  },
  {
   "cell_type": "code",
   "execution_count": 14,
   "metadata": {},
   "outputs": [
    {
     "data": {
      "application/vnd.jupyter.widget-view+json": {
       "model_id": "64ced40ba37947d1855ced2242e6e88c",
       "version_major": 2,
       "version_minor": 0
      },
      "text/plain": [
       "VBox(children=(HBox(children=(Dropdown(description='Variable :', options=('ALT[m]', 'Tisa[K]', 'TAS[m/s]', 'Vz…"
      ]
     },
     "metadata": {},
     "output_type": "display_data"
    }
   ],
   "source": [
    "dsc.plot()"
   ]
  },
  {
   "cell_type": "code",
   "execution_count": null,
   "metadata": {},
   "outputs": [],
   "source": []
  }
 ],
 "metadata": {
  "kernelspec": {
   "display_name": "Python 3",
   "language": "python",
   "name": "python3"
  },
  "language_info": {
   "codemirror_mode": {
    "name": "ipython",
    "version": 3
   },
   "file_extension": ".py",
   "mimetype": "text/x-python",
   "name": "python",
   "nbconvert_exporter": "python",
   "pygments_lexer": "ipython3",
   "version": "3.9.4"
  }
 },
 "nbformat": 4,
 "nbformat_minor": 2
}
