{
 "cells": [
  {
   "cell_type": "markdown",
   "metadata": {},
   "source": [
    "# Notes pour Google Collab.\n",
    "\n",
    "(Pour info. N'est pas exécutable en local).\n",
    "Pour ceux qui veluent travailler sur Google Collab.\n",
    "\n",
    "1) Comment accéder à tabata.\n",
    "2) Comment monter sont google drive.\n",
    "\n",
    "Ensuite il faudra mettre les données dans Google Drive."
   ]
  },
  {
   "cell_type": "code",
   "execution_count": null,
   "metadata": {},
   "outputs": [],
   "source": [
    "# Installation de tabata.\n",
    "!git clone https://github.com/jee51/tabata.git"
   ]
  },
  {
   "cell_type": "code",
   "execution_count": null,
   "metadata": {},
   "outputs": [],
   "source": [
    "# Connexion au drive\n",
    "from google.colab import drive\n",
    "drive.mount('/content/drive')"
   ]
  },
  {
   "cell_type": "code",
   "execution_count": null,
   "metadata": {},
   "outputs": [],
   "source": [
    "# Visualiser le contenu du drive.\n",
    "!ls /content/drive/MyDrive"
   ]
  }
 ],
 "metadata": {
  "language_info": {
   "name": "python"
  }
 },
 "nbformat": 4,
 "nbformat_minor": 2
}
